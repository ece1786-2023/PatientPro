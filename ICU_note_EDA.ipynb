{
 "cells": [
  {
   "cell_type": "markdown",
   "metadata": {},
   "source": [
    "# EDA for ICU_note_dataset"
   ]
  },
  {
   "cell_type": "markdown",
   "metadata": {},
   "source": [
    "#### Import dataset"
   ]
  },
  {
   "cell_type": "code",
   "execution_count": 1,
   "metadata": {},
   "outputs": [
    {
     "name": "stderr",
     "output_type": "stream",
     "text": [
      "/tmp/ipykernel_2561/991307044.py:3: DtypeWarning: Columns (4,5) have mixed types. Specify dtype option on import or set low_memory=False.\n",
      "  df = pd.read_csv('dataset/ICU_note_dataset.csv')\n"
     ]
    },
    {
     "data": {
      "text/html": [
       "<div>\n",
       "<style scoped>\n",
       "    .dataframe tbody tr th:only-of-type {\n",
       "        vertical-align: middle;\n",
       "    }\n",
       "\n",
       "    .dataframe tbody tr th {\n",
       "        vertical-align: top;\n",
       "    }\n",
       "\n",
       "    .dataframe thead th {\n",
       "        text-align: right;\n",
       "    }\n",
       "</style>\n",
       "<table border=\"1\" class=\"dataframe\">\n",
       "  <thead>\n",
       "    <tr style=\"text-align: right;\">\n",
       "      <th></th>\n",
       "      <th>ROW_ID</th>\n",
       "      <th>SUBJECT_ID</th>\n",
       "      <th>HADM_ID</th>\n",
       "      <th>CHARTDATE</th>\n",
       "      <th>CHARTTIME</th>\n",
       "      <th>STORETIME</th>\n",
       "      <th>CATEGORY</th>\n",
       "      <th>DESCRIPTION</th>\n",
       "      <th>CGID</th>\n",
       "      <th>ISERROR</th>\n",
       "      <th>TEXT</th>\n",
       "    </tr>\n",
       "  </thead>\n",
       "  <tbody>\n",
       "    <tr>\n",
       "      <th>0</th>\n",
       "      <td>174</td>\n",
       "      <td>22532</td>\n",
       "      <td>167853.0</td>\n",
       "      <td>2151-08-04</td>\n",
       "      <td>NaN</td>\n",
       "      <td>NaN</td>\n",
       "      <td>Discharge summary</td>\n",
       "      <td>Report</td>\n",
       "      <td>NaN</td>\n",
       "      <td>NaN</td>\n",
       "      <td>Admission Date:  [**2151-7-16**]       Dischar...</td>\n",
       "    </tr>\n",
       "    <tr>\n",
       "      <th>1</th>\n",
       "      <td>175</td>\n",
       "      <td>13702</td>\n",
       "      <td>107527.0</td>\n",
       "      <td>2118-06-14</td>\n",
       "      <td>NaN</td>\n",
       "      <td>NaN</td>\n",
       "      <td>Discharge summary</td>\n",
       "      <td>Report</td>\n",
       "      <td>NaN</td>\n",
       "      <td>NaN</td>\n",
       "      <td>Admission Date:  [**2118-6-2**]       Discharg...</td>\n",
       "    </tr>\n",
       "    <tr>\n",
       "      <th>2</th>\n",
       "      <td>176</td>\n",
       "      <td>13702</td>\n",
       "      <td>167118.0</td>\n",
       "      <td>2119-05-25</td>\n",
       "      <td>NaN</td>\n",
       "      <td>NaN</td>\n",
       "      <td>Discharge summary</td>\n",
       "      <td>Report</td>\n",
       "      <td>NaN</td>\n",
       "      <td>NaN</td>\n",
       "      <td>Admission Date:  [**2119-5-4**]              D...</td>\n",
       "    </tr>\n",
       "    <tr>\n",
       "      <th>3</th>\n",
       "      <td>177</td>\n",
       "      <td>13702</td>\n",
       "      <td>196489.0</td>\n",
       "      <td>2124-08-18</td>\n",
       "      <td>NaN</td>\n",
       "      <td>NaN</td>\n",
       "      <td>Discharge summary</td>\n",
       "      <td>Report</td>\n",
       "      <td>NaN</td>\n",
       "      <td>NaN</td>\n",
       "      <td>Admission Date:  [**2124-7-21**]              ...</td>\n",
       "    </tr>\n",
       "    <tr>\n",
       "      <th>4</th>\n",
       "      <td>178</td>\n",
       "      <td>26880</td>\n",
       "      <td>135453.0</td>\n",
       "      <td>2162-03-25</td>\n",
       "      <td>NaN</td>\n",
       "      <td>NaN</td>\n",
       "      <td>Discharge summary</td>\n",
       "      <td>Report</td>\n",
       "      <td>NaN</td>\n",
       "      <td>NaN</td>\n",
       "      <td>Admission Date:  [**2162-3-3**]              D...</td>\n",
       "    </tr>\n",
       "    <tr>\n",
       "      <th>...</th>\n",
       "      <td>...</td>\n",
       "      <td>...</td>\n",
       "      <td>...</td>\n",
       "      <td>...</td>\n",
       "      <td>...</td>\n",
       "      <td>...</td>\n",
       "      <td>...</td>\n",
       "      <td>...</td>\n",
       "      <td>...</td>\n",
       "      <td>...</td>\n",
       "      <td>...</td>\n",
       "    </tr>\n",
       "    <tr>\n",
       "      <th>2083175</th>\n",
       "      <td>2070657</td>\n",
       "      <td>31097</td>\n",
       "      <td>115637.0</td>\n",
       "      <td>2132-01-21</td>\n",
       "      <td>2132-01-21 03:27:00</td>\n",
       "      <td>2132-01-21 03:38:00</td>\n",
       "      <td>Nursing/other</td>\n",
       "      <td>Report</td>\n",
       "      <td>17581.0</td>\n",
       "      <td>NaN</td>\n",
       "      <td>NPN\\n\\n\\n#1  Infant remains in RA with O2 sats...</td>\n",
       "    </tr>\n",
       "    <tr>\n",
       "      <th>2083176</th>\n",
       "      <td>2070658</td>\n",
       "      <td>31097</td>\n",
       "      <td>115637.0</td>\n",
       "      <td>2132-01-21</td>\n",
       "      <td>2132-01-21 09:50:00</td>\n",
       "      <td>2132-01-21 09:53:00</td>\n",
       "      <td>Nursing/other</td>\n",
       "      <td>Report</td>\n",
       "      <td>19211.0</td>\n",
       "      <td>NaN</td>\n",
       "      <td>Neonatology\\nDOL #5, CGA 36 weeks.\\n\\nCVR: Con...</td>\n",
       "    </tr>\n",
       "    <tr>\n",
       "      <th>2083177</th>\n",
       "      <td>2070659</td>\n",
       "      <td>31097</td>\n",
       "      <td>115637.0</td>\n",
       "      <td>2132-01-21</td>\n",
       "      <td>2132-01-21 16:42:00</td>\n",
       "      <td>2132-01-21 16:44:00</td>\n",
       "      <td>Nursing/other</td>\n",
       "      <td>Report</td>\n",
       "      <td>20104.0</td>\n",
       "      <td>NaN</td>\n",
       "      <td>Family Meeting Note\\nFamily meeting held with ...</td>\n",
       "    </tr>\n",
       "    <tr>\n",
       "      <th>2083178</th>\n",
       "      <td>2070660</td>\n",
       "      <td>31097</td>\n",
       "      <td>115637.0</td>\n",
       "      <td>2132-01-21</td>\n",
       "      <td>2132-01-21 18:05:00</td>\n",
       "      <td>2132-01-21 18:16:00</td>\n",
       "      <td>Nursing/other</td>\n",
       "      <td>Report</td>\n",
       "      <td>16023.0</td>\n",
       "      <td>NaN</td>\n",
       "      <td>NPN 1800\\n\\n\\n#1 Resp: [**Known lastname 2243*...</td>\n",
       "    </tr>\n",
       "    <tr>\n",
       "      <th>2083179</th>\n",
       "      <td>2070661</td>\n",
       "      <td>31097</td>\n",
       "      <td>115637.0</td>\n",
       "      <td>2132-01-21</td>\n",
       "      <td>2132-01-21 18:05:00</td>\n",
       "      <td>2132-01-21 18:31:00</td>\n",
       "      <td>Nursing/other</td>\n",
       "      <td>Report</td>\n",
       "      <td>16023.0</td>\n",
       "      <td>NaN</td>\n",
       "      <td>NPN 1800\\nNursing Addendum:\\n[**Known lastname...</td>\n",
       "    </tr>\n",
       "  </tbody>\n",
       "</table>\n",
       "<p>2083180 rows × 11 columns</p>\n",
       "</div>"
      ],
      "text/plain": [
       "          ROW_ID  SUBJECT_ID   HADM_ID   CHARTDATE            CHARTTIME  \\\n",
       "0            174       22532  167853.0  2151-08-04                  NaN   \n",
       "1            175       13702  107527.0  2118-06-14                  NaN   \n",
       "2            176       13702  167118.0  2119-05-25                  NaN   \n",
       "3            177       13702  196489.0  2124-08-18                  NaN   \n",
       "4            178       26880  135453.0  2162-03-25                  NaN   \n",
       "...          ...         ...       ...         ...                  ...   \n",
       "2083175  2070657       31097  115637.0  2132-01-21  2132-01-21 03:27:00   \n",
       "2083176  2070658       31097  115637.0  2132-01-21  2132-01-21 09:50:00   \n",
       "2083177  2070659       31097  115637.0  2132-01-21  2132-01-21 16:42:00   \n",
       "2083178  2070660       31097  115637.0  2132-01-21  2132-01-21 18:05:00   \n",
       "2083179  2070661       31097  115637.0  2132-01-21  2132-01-21 18:05:00   \n",
       "\n",
       "                   STORETIME           CATEGORY DESCRIPTION     CGID  ISERROR  \\\n",
       "0                        NaN  Discharge summary      Report      NaN      NaN   \n",
       "1                        NaN  Discharge summary      Report      NaN      NaN   \n",
       "2                        NaN  Discharge summary      Report      NaN      NaN   \n",
       "3                        NaN  Discharge summary      Report      NaN      NaN   \n",
       "4                        NaN  Discharge summary      Report      NaN      NaN   \n",
       "...                      ...                ...         ...      ...      ...   \n",
       "2083175  2132-01-21 03:38:00      Nursing/other      Report  17581.0      NaN   \n",
       "2083176  2132-01-21 09:53:00      Nursing/other      Report  19211.0      NaN   \n",
       "2083177  2132-01-21 16:44:00      Nursing/other      Report  20104.0      NaN   \n",
       "2083178  2132-01-21 18:16:00      Nursing/other      Report  16023.0      NaN   \n",
       "2083179  2132-01-21 18:31:00      Nursing/other      Report  16023.0      NaN   \n",
       "\n",
       "                                                      TEXT  \n",
       "0        Admission Date:  [**2151-7-16**]       Dischar...  \n",
       "1        Admission Date:  [**2118-6-2**]       Discharg...  \n",
       "2        Admission Date:  [**2119-5-4**]              D...  \n",
       "3        Admission Date:  [**2124-7-21**]              ...  \n",
       "4        Admission Date:  [**2162-3-3**]              D...  \n",
       "...                                                    ...  \n",
       "2083175  NPN\\n\\n\\n#1  Infant remains in RA with O2 sats...  \n",
       "2083176  Neonatology\\nDOL #5, CGA 36 weeks.\\n\\nCVR: Con...  \n",
       "2083177  Family Meeting Note\\nFamily meeting held with ...  \n",
       "2083178  NPN 1800\\n\\n\\n#1 Resp: [**Known lastname 2243*...  \n",
       "2083179  NPN 1800\\nNursing Addendum:\\n[**Known lastname...  \n",
       "\n",
       "[2083180 rows x 11 columns]"
      ]
     },
     "execution_count": 1,
     "metadata": {},
     "output_type": "execute_result"
    }
   ],
   "source": [
    "import pandas as pd\n",
    "\n",
    "df = pd.read_csv('dataset/ICU_note_dataset.csv')\n",
    "df"
   ]
  },
  {
   "cell_type": "markdown",
   "metadata": {},
   "source": [
    "#### Preprocess dataset\n",
    "\n",
    "The dataset has 2083180 entries. First, narrow the dataset down to just the TEXT column, which contains the freeform text, and further to doctor's notes (where the column CATEGORY=\"Physician\"). "
   ]
  },
  {
   "cell_type": "code",
   "execution_count": 2,
   "metadata": {},
   "outputs": [
    {
     "data": {
      "text/plain": [
       "(141624, 11)"
      ]
     },
     "execution_count": 2,
     "metadata": {},
     "output_type": "execute_result"
    }
   ],
   "source": [
    "filtered = df[df['CATEGORY'] == \"Physician \"]\n",
    "filtered.shape"
   ]
  },
  {
   "cell_type": "markdown",
   "metadata": {},
   "source": [
    "#### Extract subset to explore\n",
    "\n",
    "It is still too large to view with a conventional csv viewer, so one must reduce the size of the dataset further. One option is to filter further with the `pandas` library for certain keywords. Another option is to simply print a small selection of the dataset to a file. This is accomplished by defining `s` and `e` to be the start and end indices of the subset. Scroll through `dataset/icu_record.txt` to find data samples with appropriate data."
   ]
  },
  {
   "cell_type": "code",
   "execution_count": 3,
   "metadata": {},
   "outputs": [],
   "source": [
    "s=64045\n",
    "e=64047\n",
    "\n",
    "with open('dataset/icu_record_subset.txt', 'w') as f:\n",
    "    for i in range(s, e):\n",
    "        f.write(f\"Record {i}:\\n\")\n",
    "        f.write(filtered['TEXT'].iloc[i])\n",
    "        f.write('\\n################################################################\\n\\n')\n"
   ]
  },
  {
   "cell_type": "markdown",
   "metadata": {},
   "source": [
    "#### Select Samples for Analysis\n",
    "\n",
    "Put the indices for the selected samples in the array `r`, and save each one in a new .txt file in a folder for the desired metric. Now, you can use `run_model.py` on them with a specified metric."
   ]
  },
  {
   "cell_type": "code",
   "execution_count": 4,
   "metadata": {},
   "outputs": [],
   "source": [
    "import os\n",
    "r = [2, 49, 54, 79, 94, 137, 174, 176, 183, 186, 24537, 24822, 64045, 80092, 140914]\n",
    "\n",
    "for i in range(len(r)):\n",
    "    fn = f'qSOFA_records/q{r[i]}.txt'\n",
    "    if os.path.isfile(fn): continue\n",
    "    with open(fn, 'w') as f:\n",
    "        f.write(filtered['TEXT'].iloc[r[i]])\n",
    "        print('wrote record', fn)"
   ]
  },
  {
   "cell_type": "code",
   "execution_count": 21,
   "metadata": {},
   "outputs": [
    {
     "name": "stdout",
     "output_type": "stream",
     "text": [
      "         ROW_ID  SUBJECT_ID   HADM_ID   CHARTDATE            CHARTTIME  \\\n",
      "335684   337834       18996  164005.0  2163-09-14  2163-09-14 07:26:00   \n",
      "335827   337829       18996  164005.0  2163-09-14  2163-09-14 07:26:00   \n",
      "335830   337832       18996  164005.0  2163-09-14  2163-09-14 07:26:00   \n",
      "337264   337795       18996  164005.0  2163-09-14  2163-09-14 07:26:00   \n",
      "380878   383926        5242  195261.0  2123-07-29  2123-07-29 05:49:00   \n",
      "384775   383959        5242  195261.0  2123-07-29  2123-07-29 05:49:00   \n",
      "393584   397595        3145  169807.0  2114-12-27  2114-12-27 09:59:00   \n",
      "393657   397600        3145  169807.0  2114-12-27  2114-12-27 09:59:00   \n",
      "432693   433270       65623  197255.0  2151-02-03  2151-02-03 00:01:00   \n",
      "503022   503824       86810  159784.0  2118-12-10  2118-12-10 03:00:00   \n",
      "503623   503863       86810  159784.0  2118-12-10  2118-12-10 03:00:00   \n",
      "602598   608909       72823  190531.0  2179-12-06  2179-12-06 18:50:00   \n",
      "603442   609033       72823  190531.0  2179-12-07  2179-12-06 18:50:00   \n",
      "610105   612594       48409  136465.0  2142-01-18  2142-01-18 08:59:00   \n",
      "2043009  612576       48409  136465.0  2142-01-18  2142-01-18 08:59:00   \n",
      "\n",
      "                   STORETIME    CATEGORY                        DESCRIPTION  \\\n",
      "335684   2163-09-14 11:04:33  Physician   Physician Resident Admission Note   \n",
      "335827   2163-09-14 10:47:04  Physician   Physician Resident Admission Note   \n",
      "335830   2163-09-14 10:54:01  Physician   Physician Resident Admission Note   \n",
      "337264   2163-09-14 07:26:10  Physician   Physician Resident Admission Note   \n",
      "380878   2123-07-29 05:49:32  Physician   Physician Resident Admission Note   \n",
      "384775   2123-07-29 08:12:48  Physician   Physician Resident Admission Note   \n",
      "393584   2114-12-27 09:59:38  Physician   Physician Attending Progress Note   \n",
      "393657   2114-12-27 11:30:53  Physician   Physician Attending Progress Note   \n",
      "432693   2151-02-03 00:01:21  Physician   Physician Resident Admission Note   \n",
      "503022   2118-12-10 03:00:31  Physician   Physician Resident Admission Note   \n",
      "503623   2118-12-10 05:48:31  Physician   Physician Resident Admission Note   \n",
      "602598   2179-12-06 18:51:03  Physician   Physician Resident Admission Note   \n",
      "603442   2179-12-07 19:12:34  Physician   Physician Resident Admission Note   \n",
      "610105   2142-01-18 11:21:38  Physician   Physician Attending Progress Note   \n",
      "2043009  2142-01-18 08:59:18  Physician   Physician Attending Progress Note   \n",
      "\n",
      "            CGID  ISERROR                                               TEXT  \n",
      "335684   16657.0      NaN  Chief Complaint:  Reason for Transfer to ICU: ...  \n",
      "335827   16657.0      NaN  Chief Complaint:  Reason for Transfer to ICU: ...  \n",
      "335830   16657.0      NaN  Chief Complaint:  Reason for Transfer to ICU: ...  \n",
      "337264   16657.0      NaN  Chief Complaint:  Reason for Transfer to ICU: ...  \n",
      "380878   17863.0      NaN  Chief Complaint:  [**Company 319**] PCP: [**La...  \n",
      "384775   17863.0      NaN  Chief Complaint:  [**Company 319**] PCP: [**La...  \n",
      "393584   14903.0      NaN  Chief Complaint: Liver failure\\n   HPI:\\n   Pl...  \n",
      "393657   17419.0      NaN  Chief Complaint: Liver failure\\n   HPI:\\n   Pl...  \n",
      "432693   21536.0      NaN  Chief Complaint:  Worsening renal function, ne...  \n",
      "503022   17863.0      NaN  Chief Complaint:  UGIB\\n   HPI:\\n   This is a ...  \n",
      "503623   19840.0      NaN  Chief Complaint:  UGIB\\n   HPI:\\n   This is a ...  \n",
      "602598   17863.0      NaN  Chief Complaint:\\n   HPI:\\n   Mrs [**Known las...  \n",
      "603442   14781.0      NaN  Chief Complaint:\\n   HPI:\\n   Mrs [**Known las...  \n",
      "610105   17419.0      NaN  Chief Complaint: Sedation post procedure\\n   H...  \n",
      "2043009  14903.0      NaN  Chief Complaint: Sedation post procedure\\n   H...  \n"
     ]
    }
   ],
   "source": [
    "filtski = df[df['CATEGORY'] == \"Physician \"]\n",
    "filtered_fil = filtski[filtski['TEXT'].str.contains('''Please see admission note for full details.''')]\n",
    "filtered_fil.reset_index()\n",
    "print(filtered_fil)"
   ]
  },
  {
   "cell_type": "code",
   "execution_count": null,
   "metadata": {},
   "outputs": [],
   "source": [
    "filtered.index.get_loc(503623)\n"
   ]
  },
  {
   "cell_type": "markdown",
   "metadata": {},
   "source": [
    "# NEWS Score records"
   ]
  },
  {
   "cell_type": "code",
   "execution_count": 18,
   "metadata": {},
   "outputs": [
    {
     "name": "stdout",
     "output_type": "stream",
     "text": [
      "wrote record NEWS_records/n552.txt\n",
      "wrote record NEWS_records/n3437.txt\n",
      "wrote record NEWS_records/n3451.txt\n",
      "wrote record NEWS_records/n5738.txt\n",
      "wrote record NEWS_records/n14824.txt\n",
      "wrote record NEWS_records/n16543.txt\n",
      "wrote record NEWS_records/n22248.txt\n",
      "wrote record NEWS_records/n26798.txt\n",
      "wrote record NEWS_records/n34189.txt\n",
      "wrote record NEWS_records/n41117.txt\n",
      "wrote record NEWS_records/n41519.txt\n",
      "wrote record NEWS_records/n44324.txt\n",
      "wrote record NEWS_records/n55038.txt\n",
      "wrote record NEWS_records/n94649.txt\n",
      "wrote record NEWS_records/n95424.txt\n",
      "wrote record NEWS_records/n102186.txt\n",
      "wrote record NEWS_records/n102219.txt\n",
      "wrote record NEWS_records/n112897.txt\n",
      "wrote record NEWS_records/n116755.txt\n",
      "wrote record NEWS_records/n127888.txt\n",
      "wrote record NEWS_records/n133448.txt\n"
     ]
    }
   ],
   "source": [
    "r = [552, 3437, 3451, 5738, 14824, 16543, 22248, 26798, 34189, 41117, 41519, 44324, 55038, 94649, 95424, 102186, 102219, 112897, 116755, 127888, 133448] + \\\n",
    "[22330, 50392, 97101, 105043, 120359, 129756, 132739]\n",
    "\n",
    "\n",
    "\n",
    "\n",
    "\n",
    "for i in range(len(r)):\n",
    "    fn = f'NEWS_records/n{r[i]}.txt'\n",
    "    if os.path.isfile(fn): continue\n",
    "    with open(fn, 'w') as f:\n",
    "        f.write(filtered['TEXT'].iloc[r[i]])\n",
    "        print('wrote record', fn)"
   ]
  },
  {
   "cell_type": "code",
   "execution_count": 12,
   "metadata": {},
   "outputs": [
    {
     "name": "stdout",
     "output_type": "stream",
     "text": [
      "[7941, 11476, 22330, 33116, 35872, 50392, 50624, 54892, 59429, 64865, 97101, 98400, 102361, 105043, 105561, 118785, 120359, 127769, 129756, 132739]\n"
     ]
    }
   ],
   "source": [
    "import random \n",
    "\n",
    "random.seed(8)\n",
    "\n",
    "r = [random.randint(0,len(filtered)) for i in range(20)]\n",
    "\n",
    "\n",
    "print(repr(sorted(r)))"
   ]
  },
  {
   "cell_type": "code",
   "execution_count": 14,
   "metadata": {},
   "outputs": [
    {
     "name": "stdout",
     "output_type": "stream",
     "text": [
      "[22330, 50392, 97101, 105043, 120359, 129756, 132739]\n",
      "7\n"
     ]
    }
   ],
   "source": [
    "import re\n",
    "\n",
    "def extract_num(fn):\n",
    "    match = re.search(r'(\\d+)', fn)\n",
    "    return int(match.group()) if match else 0\n",
    "\n",
    "\n",
    "dir_path = 'NEWS_records'\n",
    "file_names = []\n",
    "for root, dirs, files in os.walk(dir_path):\n",
    "    for file in files:\n",
    "        file_names.append(os.path.join(root, file))\n",
    "\n",
    "file_names.sort(key=extract_num)\n",
    "\n",
    "print([extract_num(f) for f in file_names])\n",
    "print(len(file_names))"
   ]
  },
  {
   "cell_type": "code",
   "execution_count": 17,
   "metadata": {},
   "outputs": [
    {
     "name": "stdout",
     "output_type": "stream",
     "text": [
      "[552, 3437, 3451, 5738, 14824, 16543, 22248, 22330, 26798, 34189, 41117, 41519, 44324, 50392, 55038, 94649, 95424, 97101, 102186, 102219, 105043, 112897, 116755, 120359, 127888, 129756, 132739, 133448]\n",
      "28\n"
     ]
    }
   ],
   "source": [
    "r = [552, 3437, 3451, 5738, 14824, 16543, 22248, 26798, 34189, 41117, 41519, 44324, 55038, 94649, 95424, 102186, 102219, 112897, 116755, 127888, 133448] + \\\n",
    "[22330, 50392, 97101, 105043, 120359, 129756, 132739]\n",
    "\n",
    "print(repr(sorted(r)))\n",
    "print(len(r))"
   ]
  },
  {
   "cell_type": "code",
   "execution_count": 25,
   "metadata": {},
   "outputs": [
    {
     "name": "stdout",
     "output_type": "stream",
     "text": [
      "{\"respiratory_rate\": 22, \"o2_saturation\": 91, \"supplemental_o2\": true, \"temperature\": 36.2, \"systolic_bp\": 103, \"heart_rate\": 87, \"AVPU\": \"U\"}\n",
      "{\"respiratory_rate\": 15, \"o2_saturation\": 99, \"supplemental_o2\": true, \"temperature\": 37.2, \"systolic_bp\": 77, \"heart_rate\": 79, \"AVPU\": \"P\"}\n",
      "{\"respiratory_rate\": 23, \"o2_saturation\": 100, \"supplemental_o2\": false, \"temperature\": 36.7, \"systolic_bp\": 148, \"heart_rate\": 73, \"AVPU\": \"A\"}\n",
      "{\"respiratory_rate\": 16, \"o2_saturation\": 96, \"supplemental_o2\": false, \"temperature\": 36.1, \"systolic_bp\": 112, \"heart_rate\": 73, \"AVPU\": \"A\"}\n",
      "{\"respiratory_rate\": 22, \"o2_saturation\": 93, \"supplemental_o2\": false, \"temperature\": 36.2, \"systolic_bp\": 118, \"heart_rate\": 83, \"AVPU\": \"V\"}\n",
      "{\"respiratory_rate\": 15, \"o2_saturation\": 100, \"supplemental_o2\": false, \"temperature\": 37.6, \"systolic_bp\": 92, \"heart_rate\": 80, \"AVPU\": \"P\"}\n",
      "{\"respiratory_rate\": 25, \"o2_saturation\": 97, \"supplemental_o2\": false, \"temperature\": 36.7, \"systolic_bp\": 134, \"heart_rate\": 91, \"AVPU\": \"V\"}\n",
      "{\"respiratory_rate\": 19, \"o2_saturation\": 96, \"supplemental_o2\": true, \"temperature\": 36.6, \"systolic_bp\": 133, \"heart_rate\": 94, \"AVPU\": \"V\"}\n",
      "{\"respiratory_rate\": 20, \"o2_saturation\": 98, \"supplemental_o2\": true, \"temperature\": 37.1, \"systolic_bp\": 132, \"heart_rate\": 111, \"AVPU\": \"A\"}\n",
      "{\"respiratory_rate\": 26, \"o2_saturation\": 100, \"supplemental_o2\": true, \"temperature\": 36.7, \"systolic_bp\": 108, \"heart_rate\": 90, \"AVPU\": \"U\"}\n",
      "{\"respiratory_rate\": 20, \"o2_saturation\": 100, \"supplemental_o2\": false, \"temperature\": 36.6, \"systolic_bp\": 78, \"heart_rate\": 98, \"AVPU\": \"A\"}\n",
      "{\"respiratory_rate\": 17, \"o2_saturation\": 96, \"supplemental_o2\": true, \"temperature\": 38.1, \"systolic_bp\": 108, \"heart_rate\": 95, \"AVPU\": \"V\"}\n",
      "{\"respiratory_rate\": 17, \"o2_saturation\": 99, \"supplemental_o2\": true, \"temperature\": 35.9, \"systolic_bp\": 129, \"heart_rate\": 79, \"AVPU\": \"A\"}\n",
      "{\"respiratory_rate\": 13, \"o2_saturation\": 99, \"supplemental_o2\": true, \"temperature\": 37.4, \"systolic_bp\": 120, \"heart_rate\": 90, \"AVPU\": \"P\"}\n",
      "{\"respiratory_rate\": 17, \"o2_saturation\": 100, \"supplemental_o2\": true, \"temperature\": 35.9, \"systolic_bp\": 132, \"heart_rate\": 59, \"AVPU\": \"A\"}\n",
      "{\"respiratory_rate\": 16, \"o2_saturation\": 100, \"supplemental_o2\": true, \"temperature\": 36.5, \"systolic_bp\": 172, \"heart_rate\": 86, \"AVPU\": \"V\"}\n",
      "{\"respiratory_rate\": 14, \"o2_saturation\": 99, \"supplemental_o2\": true, \"temperature\": 37.5, \"systolic_bp\": 135, \"heart_rate\": 96, \"AVPU\": \"V\"}\n",
      "{\"respiratory_rate\": 25, \"o2_saturation\": 98, \"supplemental_o2\": true, \"temperature\": 36.3, \"systolic_bp\": 127, \"heart_rate\": 105, \"AVPU\": \"A\"}\n",
      "{\"respiratory_rate\": 15, \"o2_saturation\": 97, \"supplemental_o2\": true, \"temperature\": 37.2, \"systolic_bp\": 111, \"heart_rate\": 98, \"AVPU\": \"V\"}\n",
      "{\"respiratory_rate\": 19, \"o2_saturation\": 99, \"supplemental_o2\": false, \"temperature\": 36.6, \"systolic_bp\": 110, \"heart_rate\": 67, \"AVPU\": \"A\"}\n",
      "{\"respiratory_rate\": 22, \"o2_saturation\": 97, \"supplemental_o2\": false, \"temperature\": 37.4, \"systolic_bp\": 131, \"heart_rate\": 84, \"AVPU\": \"A\"}\n",
      "{\"respiratory_rate\": 14, \"o2_saturation\": 95, \"supplemental_o2\": true, \"temperature\": 36.1, \"systolic_bp\": 122, \"heart_rate\": 82, \"AVPU\": \"A\"}\n",
      "{\"respiratory_rate\": 20, \"o2_saturation\": 98, \"supplemental_o2\": false, \"temperature\": 36.3, \"systolic_bp\": 153, \"heart_rate\": 75, \"AVPU\": \"A\"}\n",
      "{\"respiratory_rate\": 20, \"o2_saturation\": 95, \"supplemental_o2\": true, \"temperature\": 36.5, \"systolic_bp\": 92, \"heart_rate\": 87, \"AVPU\": \"A\"}\n",
      "{\"respiratory_rate\": 21, \"o2_saturation\": 94, \"supplemental_o2\": true, \"temperature\": 37.0, \"systolic_bp\": 131, \"heart_rate\": 106, \"AVPU\": \"A\"}\n",
      "{\"respiratory_rate\": 19, \"o2_saturation\": 99, \"supplemental_o2\": false, \"temperature\": 36.9, \"systolic_bp\": 98, \"heart_rate\": 70, \"AVPU\": \"A\"}\n",
      "{\"respiratory_rate\": 25, \"o2_saturation\": 93, \"supplemental_o2\": true, \"temperature\": 35.6, \"systolic_bp\": 120, \"heart_rate\": 103, \"AVPU\": \"V\"}\n",
      "{\"respiratory_rate\": 23, \"o2_saturation\": 100, \"supplemental_o2\": true, \"temperature\": 37.7, \"systolic_bp\": 113, \"heart_rate\": 100, \"AVPU\": \"A\"}\n"
     ]
    }
   ],
   "source": [
    "import metrics\n",
    "import csv\n",
    "import json\n",
    "\n",
    "metric = metrics.get_metric(\"news\")\n",
    "\n",
    "input_csv = 'labels/news_labels.csv'\n",
    "output_csv = 'news_labels.csv'\n",
    "\n",
    "with open(input_csv, 'r') as infile, open(output_csv, 'w', newline='') as outfile:\n",
    "    reader = csv.reader(infile)\n",
    "    writer = csv.writer(outfile)\n",
    "\n",
    "    # Write the header to the output file\n",
    "    headers = next(reader)\n",
    "    writer.writerow(headers)\n",
    "\n",
    "    # Process each row\n",
    "    for row in reader:\n",
    "        # Exclude the last column for the operation\n",
    "        data = {}\n",
    "        data['respiratory_rate']    = int(row[1])\n",
    "        data['o2_saturation']       = int(row[2])\n",
    "        data['supplemental_o2']     = True if row[3] == \"TRUE\" else False\n",
    "        data['temperature']         = float(row[4])\n",
    "        data['systolic_bp']         = int(row[5])\n",
    "        data['heart_rate']          = int(row[6])\n",
    "        data['AVPU']                = row[7]\n",
    "\n",
    "        # data = row[:-1]\n",
    "        print(json.dumps(data))\n",
    "\n",
    "        # Perform the operation and get the result\n",
    "        result = metric.compute_score(data)\n",
    "        # Write the result to the last column of the row\n",
    "        row[-1] = result\n",
    "        writer.writerow(row)\n",
    "\n"
   ]
  },
  {
   "cell_type": "code",
   "execution_count": null,
   "metadata": {},
   "outputs": [],
   "source": []
  }
 ],
 "metadata": {
  "kernelspec": {
   "display_name": "patientpro",
   "language": "python",
   "name": "python3"
  },
  "language_info": {
   "codemirror_mode": {
    "name": "ipython",
    "version": 3
   },
   "file_extension": ".py",
   "mimetype": "text/x-python",
   "name": "python",
   "nbconvert_exporter": "python",
   "pygments_lexer": "ipython3",
   "version": "3.10.12"
  }
 },
 "nbformat": 4,
 "nbformat_minor": 2
}
